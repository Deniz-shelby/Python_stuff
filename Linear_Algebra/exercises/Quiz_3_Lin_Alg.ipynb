{
 "cells": [
  {
   "cell_type": "markdown",
   "metadata": {},
   "source": [
    "## Linear Algebra Quiz #3\n",
    "\n",
    "![title](./img/3_0.jpeg)\n",
    "\n",
    "We strongly suggest working with numpy :)"
   ]
  },
  {
   "cell_type": "code",
   "execution_count": 2,
   "metadata": {},
   "outputs": [],
   "source": [
    "#Do your imports here\n",
    "import numpy as np"
   ]
  },
  {
   "cell_type": "markdown",
   "metadata": {},
   "source": [
    "![title](./img/3_2.png)\n",
    "![title](./img/3_3.png)\n",
    "Create a program that can output\n",
    "\n",
    "- What is the value of element c23​ of Matrix C where C=A x B ?\n",
    "- What is the value of element c23​ of Matrix C where C=B x A ?"
   ]
  },
  {
   "cell_type": "code",
   "execution_count": 3,
   "metadata": {},
   "outputs": [],
   "source": [
    "# okay numpy is great but... how would you inverse a matrix by hand?\n",
    "\n",
    "#We take the matrix and do diagonal 1 matrix besides it so a [[1,0,0],[0,1,0],[0,0,1]]\n",
    "# then we change the matrix till its looks like the diagonal matrix. \n",
    "#The changes on the right diagonal matrix is at the end the new inverted matrix\n",
    "\n",
    "a = np.array([[3,1,2], [-5,4,1], [0,3,-8]])\n",
    "\n",
    "def inverse_matrix(A):\n",
    "    return np.linalg.inv(A)"
   ]
  },
  {
   "cell_type": "code",
   "execution_count": 4,
   "metadata": {},
   "outputs": [
    {
     "data": {
      "text/plain": [
       "array([[-2. ,  1. ],\n",
       "       [ 1.5, -0.5]])"
      ]
     },
     "execution_count": 4,
     "metadata": {},
     "output_type": "execute_result"
    }
   ],
   "source": [
    "b = np.array([[1., 2.], [3., 4.]])\n",
    "inverse_matrix(b)"
   ]
  },
  {
   "cell_type": "markdown",
   "metadata": {},
   "source": [
    "![title](./img/3_1.png)\n",
    "Create a program that can output\n",
    "\n",
    "- What is the value of the ijth element if i = 2 and j=3?\n",
    "- What is the value of the ijth element if i = 3 and j=1?"
   ]
  },
  {
   "cell_type": "code",
   "execution_count": 4,
   "metadata": {},
   "outputs": [
    {
     "name": "stdout",
     "output_type": "stream",
     "text": [
      "[[ 6.000000e+00 -1.014160e+03  1.157849e+02 -9.300000e+01]\n",
      " [ 7.000000e-01 -3.000000e+00 -2.700000e+00  1.767000e+01]\n",
      " [ 5.700000e+00  0.000000e+00 -8.000000e+00  6.000000e-03]]\n",
      "-2.7\n",
      "5.7\n"
     ]
    },
    {
     "ename": "TypeError",
     "evalue": "_solve_dispatcher() takes 2 positional arguments but 3 were given",
     "output_type": "error",
     "traceback": [
      "\u001b[0;31m---------------------------------------------------------------------------\u001b[0m",
      "\u001b[0;31mTypeError\u001b[0m                                 Traceback (most recent call last)",
      "\u001b[0;32m<ipython-input-4-9321647989a8>\u001b[0m in \u001b[0;36m<module>\u001b[0;34m\u001b[0m\n\u001b[1;32m     15\u001b[0m \u001b[0;31m#Some ideas on valid operations: Multiplication Addition Subtraction Inverstion Transposed.\u001b[0m\u001b[0;34m\u001b[0m\u001b[0;34m\u001b[0m\u001b[0;34m\u001b[0m\u001b[0m\n\u001b[1;32m     16\u001b[0m \u001b[0;34m\u001b[0m\u001b[0m\n\u001b[0;32m---> 17\u001b[0;31m \u001b[0mnp\u001b[0m\u001b[0;34m.\u001b[0m\u001b[0mlinalg\u001b[0m\u001b[0;34m.\u001b[0m\u001b[0msolve\u001b[0m\u001b[0;34m(\u001b[0m\u001b[0mA\u001b[0m\u001b[0;34m,\u001b[0m\u001b[0mB\u001b[0m\u001b[0;34m,\u001b[0m\u001b[0mC\u001b[0m\u001b[0;34m)\u001b[0m\u001b[0;34m\u001b[0m\u001b[0;34m\u001b[0m\u001b[0m\n\u001b[0m",
      "\u001b[0;32m<__array_function__ internals>\u001b[0m in \u001b[0;36msolve\u001b[0;34m(*args, **kwargs)\u001b[0m\n",
      "\u001b[0;31mTypeError\u001b[0m: _solve_dispatcher() takes 2 positional arguments but 3 were given"
     ]
    }
   ],
   "source": [
    "# Just answer using code --> easy stuff!\n",
    "\n",
    "A = np.array([[3, 0.6, 4, -3],[-1.3,4,0,8.6],[7,0,-8,0.006]])\n",
    "B = np.array([[3, -5.76, 45, 0],[2, -2, 1.3 , 9],[-9, 0,0,0]])\n",
    "C = np.array([[0,1009, -66.7849, 90],[0,5,4,-0.07],[-7.7,0,0,0]])\n",
    "\n",
    "D = A + B - C\n",
    "print(D)\n",
    "\n",
    "print(D[1,2])\n",
    "print(D[2,0])\n",
    "\n",
    "# Harder\n",
    "# Can you build a matrix solver that can do output the result given n matrices and a sequence of operations such as [add subtract multiply transpose?]\n",
    "#Some ideas on valid operations: Multiplication Addition Subtraction Inverstion Transposed.\n",
    "\n",
    "np.linalg.solve(a,b)"
   ]
  },
  {
   "cell_type": "markdown",
   "metadata": {},
   "source": [
    "![title](./img/3_3.png)\n",
    "Create a program that can output\n",
    "- How many rows will C have?\n",
    "- How many columns will C have?\n",
    "- What will be the value of c13​?"
   ]
  },
  {
   "cell_type": "code",
   "execution_count": 15,
   "metadata": {},
   "outputs": [
    {
     "data": {
      "text/plain": [
       "array([-102.8,  255.2,  595.6])"
      ]
     },
     "execution_count": 15,
     "metadata": {},
     "output_type": "execute_result"
    }
   ],
   "source": [
    "AA = np.array([0.6,-15,2,5,98])\n",
    "BB = np.array([[2,2,-4],[9,-14,0],[13,-0.5,44],[1,9,4],[0,0,5]])\n",
    "\n",
    "CC = np.dot(AA.T, BB)\n",
    "CC"
   ]
  },
  {
   "cell_type": "code",
   "execution_count": 16,
   "metadata": {},
   "outputs": [
    {
     "data": {
      "text/plain": [
       "595.6"
      ]
     },
     "execution_count": 16,
     "metadata": {},
     "output_type": "execute_result"
    }
   ],
   "source": [
    "CC[2]"
   ]
  }
 ],
 "metadata": {
  "kernelspec": {
   "display_name": "Python 3",
   "language": "python",
   "name": "python3"
  },
  "language_info": {
   "codemirror_mode": {
    "name": "ipython",
    "version": 3
   },
   "file_extension": ".py",
   "mimetype": "text/x-python",
   "name": "python",
   "nbconvert_exporter": "python",
   "pygments_lexer": "ipython3",
   "version": "3.8.8"
  }
 },
 "nbformat": 4,
 "nbformat_minor": 2
}
