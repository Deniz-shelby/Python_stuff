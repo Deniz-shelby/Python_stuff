{
 "cells": [
  {
   "cell_type": "code",
   "execution_count": 4,
   "id": "91f55cc2",
   "metadata": {},
   "outputs": [],
   "source": [
    "simple_list = [1,23,56,29,10,234,43,4324,534532,5435,345,345,34,5,345]"
   ]
  },
  {
   "cell_type": "code",
   "execution_count": 5,
   "id": "32df1090",
   "metadata": {},
   "outputs": [
    {
     "name": "stdout",
     "output_type": "stream",
     "text": [
      "[1, 5, 10, 23, 29, 34, 43, 56, 234, 345, 345, 345, 4324, 5435, 534532]\n"
     ]
    }
   ],
   "source": [
    "# bubble sort\n",
    "for i in range(len(simple_list)):\n",
    "    for j in range(0,len(simple_list)):\n",
    "        if simple_list[i] <= simple_list[j]:\n",
    "            simple_list[i], simple_list[j] = simple_list[j], simple_list[i]\n",
    "    \n",
    "print(simple_list)\n",
    "    "
   ]
  },
  {
   "cell_type": "code",
   "execution_count": 6,
   "id": "f600e179",
   "metadata": {},
   "outputs": [
    {
     "name": "stdout",
     "output_type": "stream",
     "text": [
      "[1, 5, 10, 23, 29, 34, 43, 56, 234, 345, 345, 345, 4324, 5435, 534532]\n"
     ]
    }
   ],
   "source": [
    "n = len(simple_list)\n",
    "for i in range(n):\n",
    "    for j in range(0,n-i-1):\n",
    "        if simple_list[j+1] <= simple_list[j]:\n",
    "            simple_list[j], simple_list[j+1] = simple_list[j+1], simple_list[j]\n",
    "    \n",
    "print(simple_list)"
   ]
  }
 ],
 "metadata": {
  "kernelspec": {
   "display_name": "Python 3",
   "language": "python",
   "name": "python3"
  },
  "language_info": {
   "codemirror_mode": {
    "name": "ipython",
    "version": 3
   },
   "file_extension": ".py",
   "mimetype": "text/x-python",
   "name": "python",
   "nbconvert_exporter": "python",
   "pygments_lexer": "ipython3",
   "version": "3.8.8"
  }
 },
 "nbformat": 4,
 "nbformat_minor": 5
}
