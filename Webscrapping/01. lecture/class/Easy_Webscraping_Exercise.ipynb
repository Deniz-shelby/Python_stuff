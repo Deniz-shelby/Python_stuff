{
 "cells": [
  {
   "cell_type": "markdown",
   "id": "equal-constitution",
   "metadata": {},
   "source": [
    "Exercise Easy:\n",
    "\n",
    "    Extract the 6 days weather from san Francisco in weather.gov.\n",
    "\n",
    "    1.inspect with the console\n",
    "    2.write code to target the right elements of the text\n",
    "    3.For each day, you need to store:\n",
    "\n",
    "    -The day of the week (Saturday)\n",
    "    \n",
    "    -The date (12/09)\n",
    "    \n",
    "    -A short description of the conditions (Clear early then increasing        cloudiness after midnight. Low 41F. Winds light and variable)\n",
    "    \n",
    "    -The temperature low and high, with a function of your own to convert      into Celsius\n",
    "    \n",
    "    -For each element you scrape, The name of the item you targetted (ex:      DailyContent--daypartDate--3MM0J)\n",
    "    \n",
    "    -Save all of this into a Pandas dataframe"
   ]
  },
  {
   "cell_type": "code",
   "execution_count": 1,
   "id": "threatened-croatia",
   "metadata": {},
   "outputs": [],
   "source": [
    "import requests\n",
    "from bs4 import BeautifulSoup\n",
    "import pandas as pd\n",
    "import numpy as np\n",
    "import datetime\n",
    "from datetime import date\n",
    "import matplotlib.pyplot as plt"
   ]
  },
  {
   "cell_type": "code",
   "execution_count": 2,
   "id": "progressive-cartoon",
   "metadata": {},
   "outputs": [],
   "source": [
    "page = requests.get(\"https://forecast.weather.gov/MapClick.php?lat=37.777120000000025&lon=-122.41963999999996#.X9DVpBakolQ\")\n",
    "soup = BeautifulSoup(page.content, 'html.parser') #whole html\n",
    "#html = list(soup.children)[2] #whole html nicer format #concept children parent in web dev\n",
    "#body = list(html.children)[3] #[in get sibling]\n",
    "#main = list(body.children)[1] #one deeper in main\n",
    "#print(body)\n",
    "#print(main)\n",
    "\n",
    "period_name_container = soup.find_all('div',class_= \"col-sm-2 forecast-label\")\n",
    "#print(period_name_container)\n",
    "\n",
    "description_container = soup.find_all(\"div\", class_= \"forecast-text\")\n",
    "#print(description_container)"
   ]
  },
  {
   "cell_type": "code",
   "execution_count": 3,
   "id": "lovely-multimedia",
   "metadata": {},
   "outputs": [
    {
     "name": "stdout",
     "output_type": "stream",
     "text": [
      "['Overnight', 'Thursday', 'Thursday Night', 'Friday', 'Friday Night', 'Saturday', 'Saturday Night', 'Sunday', 'Sunday Night', 'Monday', 'Monday Night', 'Tuesday', 'Tuesday Night', 'Wednesday']\n"
     ]
    }
   ],
   "source": [
    "#print(period_name_container)\n",
    "days = []\n",
    "for b in period_name_container:\n",
    "    days.append(b.getText()) #if its in a div -> first b = div/second b = div.find('b')\n",
    "print(days)\n"
   ]
  },
  {
   "cell_type": "code",
   "execution_count": 4,
   "id": "increasing-breathing",
   "metadata": {},
   "outputs": [
    {
     "name": "stdout",
     "output_type": "stream",
     "text": [
      "['Partly cloudy, with a low around 48. West northwest wind 14 to 18 mph, with gusts as high as 32 mph. ', 'Sunny, with a high near 62. West wind 6 to 16 mph, with gusts as high as 26 mph. ', 'Clear, with a low around 46. West wind 9 to 14 mph becoming light west northwest. Winds could gust as high as 21 mph. ', 'Sunny, with a high near 68. North wind around 8 mph. ', 'Clear, with a low around 47. West wind 5 to 8 mph becoming calm  in the evening. ', 'Sunny, with a high near 70.', 'Clear, with a low around 48.', 'Sunny, with a high near 68.', 'Mostly clear, with a low around 48.', 'Sunny, with a high near 64.', 'Clear, with a low around 47.', 'Sunny, with a high near 69.', 'Clear, with a low around 49.', 'Sunny, with a high near 72.']\n"
     ]
    }
   ],
   "source": [
    "description = []\n",
    "for div in description_container:\n",
    "    description.append(div.getText())\n",
    "print(description)"
   ]
  },
  {
   "cell_type": "code",
   "execution_count": 5,
   "id": "invalid-crest",
   "metadata": {},
   "outputs": [
    {
     "name": "stdout",
     "output_type": "stream",
     "text": [
      "['48', '62', '46', '68', '47', '70', '48', '68', '48', '64', '47', '69', '49', '72']\n",
      "['8.89 °C', '16.67 °C', '7.78 °C', '20.0 °C', '8.33 °C', '21.11 °C', '8.89 °C', '20.0 °C', '8.89 °C', '17.78 °C', '8.33 °C', '20.56 °C', '9.44 °C', '22.22 °C']\n"
     ]
    }
   ],
   "source": [
    "temps = [] #get the temperature from the description text \n",
    "for i in range(len(description)): #iterate in list\n",
    "    desc = description[i]         #acces list index\n",
    "    desc = desc.split('.')        #split the first sentence if it is one\n",
    "    desc = desc[0]                #take only the first sentence\n",
    "    desc = desc.split()           #split sentence in words\n",
    "    temps.append(desc[-1])        #get the last item in sentence // temp\n",
    "print(temps)\n",
    "\n",
    "##convert fahrenheit to C\n",
    "#°C = (°F − 32) / 1,8\n",
    "temps_in_C = []\n",
    "for temp in temps:\n",
    "    new_temp = (int(temp)-32)/ 1.8\n",
    "    new_temp = round(new_temp,2)\n",
    "    temps_in_C.append(f'{new_temp} °C')\n",
    "print(temps_in_C)"
   ]
  },
  {
   "cell_type": "code",
   "execution_count": 6,
   "id": "valuable-while",
   "metadata": {},
   "outputs": [
    {
     "name": "stdout",
     "output_type": "stream",
     "text": [
      "2021-03-25\n",
      "DatetimeIndex(['2021-03-25', '2021-03-26', '2021-03-27', '2021-03-28',\n",
      "               '2021-03-29', '2021-03-30', '2021-03-31'],\n",
      "              dtype='datetime64[ns]', freq='D')\n",
      "DatetimeIndex(['2021-03-25', '2021-03-25', '2021-03-26', '2021-03-26',\n",
      "               '2021-03-27', '2021-03-27', '2021-03-28', '2021-03-28',\n",
      "               '2021-03-29', '2021-03-29', '2021-03-30', '2021-03-30',\n",
      "               '2021-03-31', '2021-03-31'],\n",
      "              dtype='datetime64[ns]', freq=None)\n"
     ]
    }
   ],
   "source": [
    "today = date.today()\n",
    "print(today)\n",
    "seventh_day = today + datetime.timedelta(days=6)         # get the end day for date_range\n",
    "date_range = pd.date_range(start=today, end=seventh_day) #get date range for 7 days\n",
    "print(date_range)\n",
    "date_range = date_range.repeat(2) #reapeat twice\n",
    "\n",
    "#date_range = date_range[:-1] ############### depends on len\n",
    "print(date_range)"
   ]
  },
  {
   "cell_type": "code",
   "execution_count": 7,
   "id": "static-trailer",
   "metadata": {},
   "outputs": [],
   "source": [
    "low_high = ['high','low']*7 #creating low& high list\n",
    "#low_high = low_high[:-1] ############### depends on len"
   ]
  },
  {
   "cell_type": "code",
   "execution_count": 8,
   "id": "oriental-tongue",
   "metadata": {},
   "outputs": [
    {
     "name": "stdout",
     "output_type": "stream",
     "text": [
      "14\n",
      "14\n",
      "14\n",
      "14\n",
      "14\n"
     ]
    }
   ],
   "source": [
    "#check len of each colum\n",
    "print(len(days))\n",
    "print(len(temps_in_C))\n",
    "print(len(low_high))\n",
    "print(len(description))\n",
    "print(len(date_range))"
   ]
  },
  {
   "cell_type": "code",
   "execution_count": 9,
   "id": "subtle-marsh",
   "metadata": {},
   "outputs": [],
   "source": [
    "df = pd.DataFrame({\n",
    "    'days':days,\n",
    "    'temps_in_C':temps_in_C,\n",
    "    'low_high':low_high,\n",
    "    'description':description\n",
    "                  }, index=date_range)\n",
    "#df['date'] = date_range"
   ]
  },
  {
   "cell_type": "code",
   "execution_count": 10,
   "id": "sorted-retailer",
   "metadata": {},
   "outputs": [
    {
     "data": {
      "text/html": [
       "<div>\n",
       "<style scoped>\n",
       "    .dataframe tbody tr th:only-of-type {\n",
       "        vertical-align: middle;\n",
       "    }\n",
       "\n",
       "    .dataframe tbody tr th {\n",
       "        vertical-align: top;\n",
       "    }\n",
       "\n",
       "    .dataframe thead th {\n",
       "        text-align: right;\n",
       "    }\n",
       "</style>\n",
       "<table border=\"1\" class=\"dataframe\">\n",
       "  <thead>\n",
       "    <tr style=\"text-align: right;\">\n",
       "      <th></th>\n",
       "      <th>days</th>\n",
       "      <th>temps_in_C</th>\n",
       "      <th>low_high</th>\n",
       "      <th>description</th>\n",
       "    </tr>\n",
       "  </thead>\n",
       "  <tbody>\n",
       "    <tr>\n",
       "      <th>2021-03-25</th>\n",
       "      <td>Overnight</td>\n",
       "      <td>8.89 °C</td>\n",
       "      <td>high</td>\n",
       "      <td>Partly cloudy, with a low around 48. West nort...</td>\n",
       "    </tr>\n",
       "    <tr>\n",
       "      <th>2021-03-25</th>\n",
       "      <td>Thursday</td>\n",
       "      <td>16.67 °C</td>\n",
       "      <td>low</td>\n",
       "      <td>Sunny, with a high near 62. West wind 6 to 16 ...</td>\n",
       "    </tr>\n",
       "    <tr>\n",
       "      <th>2021-03-26</th>\n",
       "      <td>Thursday Night</td>\n",
       "      <td>7.78 °C</td>\n",
       "      <td>high</td>\n",
       "      <td>Clear, with a low around 46. West wind 9 to 14...</td>\n",
       "    </tr>\n",
       "    <tr>\n",
       "      <th>2021-03-26</th>\n",
       "      <td>Friday</td>\n",
       "      <td>20.0 °C</td>\n",
       "      <td>low</td>\n",
       "      <td>Sunny, with a high near 68. North wind around ...</td>\n",
       "    </tr>\n",
       "    <tr>\n",
       "      <th>2021-03-27</th>\n",
       "      <td>Friday Night</td>\n",
       "      <td>8.33 °C</td>\n",
       "      <td>high</td>\n",
       "      <td>Clear, with a low around 47. West wind 5 to 8 ...</td>\n",
       "    </tr>\n",
       "    <tr>\n",
       "      <th>2021-03-27</th>\n",
       "      <td>Saturday</td>\n",
       "      <td>21.11 °C</td>\n",
       "      <td>low</td>\n",
       "      <td>Sunny, with a high near 70.</td>\n",
       "    </tr>\n",
       "    <tr>\n",
       "      <th>2021-03-28</th>\n",
       "      <td>Saturday Night</td>\n",
       "      <td>8.89 °C</td>\n",
       "      <td>high</td>\n",
       "      <td>Clear, with a low around 48.</td>\n",
       "    </tr>\n",
       "    <tr>\n",
       "      <th>2021-03-28</th>\n",
       "      <td>Sunday</td>\n",
       "      <td>20.0 °C</td>\n",
       "      <td>low</td>\n",
       "      <td>Sunny, with a high near 68.</td>\n",
       "    </tr>\n",
       "    <tr>\n",
       "      <th>2021-03-29</th>\n",
       "      <td>Sunday Night</td>\n",
       "      <td>8.89 °C</td>\n",
       "      <td>high</td>\n",
       "      <td>Mostly clear, with a low around 48.</td>\n",
       "    </tr>\n",
       "    <tr>\n",
       "      <th>2021-03-29</th>\n",
       "      <td>Monday</td>\n",
       "      <td>17.78 °C</td>\n",
       "      <td>low</td>\n",
       "      <td>Sunny, with a high near 64.</td>\n",
       "    </tr>\n",
       "    <tr>\n",
       "      <th>2021-03-30</th>\n",
       "      <td>Monday Night</td>\n",
       "      <td>8.33 °C</td>\n",
       "      <td>high</td>\n",
       "      <td>Clear, with a low around 47.</td>\n",
       "    </tr>\n",
       "    <tr>\n",
       "      <th>2021-03-30</th>\n",
       "      <td>Tuesday</td>\n",
       "      <td>20.56 °C</td>\n",
       "      <td>low</td>\n",
       "      <td>Sunny, with a high near 69.</td>\n",
       "    </tr>\n",
       "    <tr>\n",
       "      <th>2021-03-31</th>\n",
       "      <td>Tuesday Night</td>\n",
       "      <td>9.44 °C</td>\n",
       "      <td>high</td>\n",
       "      <td>Clear, with a low around 49.</td>\n",
       "    </tr>\n",
       "    <tr>\n",
       "      <th>2021-03-31</th>\n",
       "      <td>Wednesday</td>\n",
       "      <td>22.22 °C</td>\n",
       "      <td>low</td>\n",
       "      <td>Sunny, with a high near 72.</td>\n",
       "    </tr>\n",
       "  </tbody>\n",
       "</table>\n",
       "</div>"
      ],
      "text/plain": [
       "                      days temps_in_C low_high  \\\n",
       "2021-03-25       Overnight    8.89 °C     high   \n",
       "2021-03-25        Thursday   16.67 °C      low   \n",
       "2021-03-26  Thursday Night    7.78 °C     high   \n",
       "2021-03-26          Friday    20.0 °C      low   \n",
       "2021-03-27    Friday Night    8.33 °C     high   \n",
       "2021-03-27        Saturday   21.11 °C      low   \n",
       "2021-03-28  Saturday Night    8.89 °C     high   \n",
       "2021-03-28          Sunday    20.0 °C      low   \n",
       "2021-03-29    Sunday Night    8.89 °C     high   \n",
       "2021-03-29          Monday   17.78 °C      low   \n",
       "2021-03-30    Monday Night    8.33 °C     high   \n",
       "2021-03-30         Tuesday   20.56 °C      low   \n",
       "2021-03-31   Tuesday Night    9.44 °C     high   \n",
       "2021-03-31       Wednesday   22.22 °C      low   \n",
       "\n",
       "                                                  description  \n",
       "2021-03-25  Partly cloudy, with a low around 48. West nort...  \n",
       "2021-03-25  Sunny, with a high near 62. West wind 6 to 16 ...  \n",
       "2021-03-26  Clear, with a low around 46. West wind 9 to 14...  \n",
       "2021-03-26  Sunny, with a high near 68. North wind around ...  \n",
       "2021-03-27  Clear, with a low around 47. West wind 5 to 8 ...  \n",
       "2021-03-27                        Sunny, with a high near 70.  \n",
       "2021-03-28                       Clear, with a low around 48.  \n",
       "2021-03-28                        Sunny, with a high near 68.  \n",
       "2021-03-29                Mostly clear, with a low around 48.  \n",
       "2021-03-29                        Sunny, with a high near 64.  \n",
       "2021-03-30                       Clear, with a low around 47.  \n",
       "2021-03-30                        Sunny, with a high near 69.  \n",
       "2021-03-31                       Clear, with a low around 49.  \n",
       "2021-03-31                        Sunny, with a high near 72.  "
      ]
     },
     "metadata": {},
     "output_type": "display_data"
    }
   ],
   "source": [
    "display(df)"
   ]
  }
 ],
 "metadata": {
  "kernelspec": {
   "display_name": "Python 3",
   "language": "python",
   "name": "python3"
  },
  "language_info": {
   "codemirror_mode": {
    "name": "ipython",
    "version": 3
   },
   "file_extension": ".py",
   "mimetype": "text/x-python",
   "name": "python",
   "nbconvert_exporter": "python",
   "pygments_lexer": "ipython3",
   "version": "3.8.8"
  }
 },
 "nbformat": 4,
 "nbformat_minor": 5
}
