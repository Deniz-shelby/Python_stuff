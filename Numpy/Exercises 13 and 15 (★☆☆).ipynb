{
 "cells": [
  {
   "cell_type": "code",
   "execution_count": 2,
   "id": "biological-worcester",
   "metadata": {},
   "outputs": [],
   "source": [
    "# Import the needed libraries\n",
    "import numpy as np\n"
   ]
  },
  {
   "cell_type": "markdown",
   "id": "champion-greensboro",
   "metadata": {},
   "source": [
    "**13. Create a 10x10 array with random values and find the minimum and maximum values**"
   ]
  },
  {
   "cell_type": "code",
   "execution_count": 10,
   "id": "joint-explorer",
   "metadata": {},
   "outputs": [
    {
     "name": "stdout",
     "output_type": "stream",
     "text": [
      "[[ 0.24581181 -0.43332449  1.41422925  2.37287949 -1.02633006 -2.88893475\n",
      "   0.18798076  1.87175179 -2.80048276  0.55584108]\n",
      " [ 1.40879539 -0.92329901 -1.87019809  0.81613913 -0.80930377  0.53002992\n",
      "  -0.17654284  0.54487084 -1.76960363 -1.67791971]\n",
      " [ 0.89579071 -0.45331426 -1.16774056  1.69004806 -1.56423564  0.86137552\n",
      "  -0.24754901 -2.87225396  0.19539363  0.60047591]\n",
      " [ 0.60550839  0.07572819 -0.03786918 -1.02740491 -0.73444464  1.07290501\n",
      "   0.44236115 -0.19125165  0.92990991  0.70852448]\n",
      " [-1.8246566  -0.08864829  0.33857783 -0.25868669 -0.06776519  0.12213236\n",
      "  -0.11199042  0.70255683 -0.61210733 -1.17794457]\n",
      " [-0.32234958 -0.59086864 -1.16284281 -0.46557766 -0.51345648  0.02429902\n",
      "   0.7184361  -0.70186325  0.63359625  0.01834795]\n",
      " [ 2.08331144  0.84400801 -0.43692407  0.55292606  0.88152178 -0.58999075\n",
      "   0.12634832 -0.63390238  0.10832252 -2.04037787]\n",
      " [ 0.04560745  0.49969281  0.82794738  0.11008824 -0.86901139 -0.15750843\n",
      "  -0.22094657  0.83303279  0.60411944  0.77201743]\n",
      " [-1.11337445 -0.3379686  -0.13097203 -0.4668198  -1.31638382  0.53703939\n",
      "   0.97361348  0.2129493  -1.11298162  0.06067422]\n",
      " [-2.06944305  0.41670024 -0.44576424 -0.57426749 -0.61459376 -0.273536\n",
      "  -1.07231231 -0.70087283  0.30871178  0.57177249]]\n",
      "2.372879489955882\n",
      "-2.888934752647548\n"
     ]
    }
   ],
   "source": [
    "arr = np.random.normal(size=(10,10))\n",
    "print(arr)\n",
    "print(np.max(arr))\n",
    "print(np.min(arr))"
   ]
  },
  {
   "cell_type": "markdown",
   "id": "exempt-organ",
   "metadata": {},
   "source": [
    "**15. Create a 2d array with 1 on the border and 0 inside**"
   ]
  },
  {
   "cell_type": "code",
   "execution_count": 13,
   "id": "sufficient-facility",
   "metadata": {},
   "outputs": [
    {
     "name": "stdout",
     "output_type": "stream",
     "text": [
      "[[0 0 0]\n",
      " [0 1 0]\n",
      " [0 0 0]]\n"
     ]
    },
    {
     "data": {
      "text/plain": [
       "(3, 3)"
      ]
     },
     "execution_count": 13,
     "metadata": {},
     "output_type": "execute_result"
    }
   ],
   "source": [
    "arr = np.array([[0,0,0],[0,1,0],[0,0,0]])\n",
    "print(arr)\n",
    "arr.shape"
   ]
  }
 ],
 "metadata": {
  "kernelspec": {
   "display_name": "Python 3",
   "language": "python",
   "name": "python3"
  },
  "language_info": {
   "codemirror_mode": {
    "name": "ipython",
    "version": 3
   },
   "file_extension": ".py",
   "mimetype": "text/x-python",
   "name": "python",
   "nbconvert_exporter": "python",
   "pygments_lexer": "ipython3",
   "version": "3.8.8"
  }
 },
 "nbformat": 4,
 "nbformat_minor": 5
}
