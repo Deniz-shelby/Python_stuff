{
 "cells": [
  {
   "cell_type": "code",
   "execution_count": 2,
   "id": "written-optics",
   "metadata": {},
   "outputs": [],
   "source": [
    "# Import the needed libraries\n",
    "import numpy as np"
   ]
  },
  {
   "cell_type": "markdown",
   "id": "polyphonic-finland",
   "metadata": {},
   "source": [
    "**34. How to get all the dates corresponding to the month of July 2016**"
   ]
  },
  {
   "cell_type": "code",
   "execution_count": 3,
   "id": "plastic-aaron",
   "metadata": {},
   "outputs": [
    {
     "name": "stdout",
     "output_type": "stream",
     "text": [
      "July, 2016\n",
      "['2016-06-01' '2016-06-02' '2016-06-03' '2016-06-04' '2016-06-05'\n",
      " '2016-06-06' '2016-06-07' '2016-06-08' '2016-06-09' '2016-06-10'\n",
      " '2016-06-11' '2016-06-12' '2016-06-13' '2016-06-14' '2016-06-15'\n",
      " '2016-06-16' '2016-06-17' '2016-06-18' '2016-06-19' '2016-06-20'\n",
      " '2016-06-21' '2016-06-22' '2016-06-23' '2016-06-24' '2016-06-25'\n",
      " '2016-06-26' '2016-06-27' '2016-06-28' '2016-06-29' '2016-06-30']\n"
     ]
    }
   ],
   "source": [
    "print('July, 2016')\n",
    "print(np.arange('2016-06','2016-07',dtype='datetime64[D]'))"
   ]
  },
  {
   "cell_type": "markdown",
   "id": "opposite-impact",
   "metadata": {},
   "source": [
    "**42. Consider two random array A and B, check if they are equal**"
   ]
  },
  {
   "cell_type": "code",
   "execution_count": 12,
   "id": "missing-reception",
   "metadata": {},
   "outputs": [
    {
     "name": "stdout",
     "output_type": "stream",
     "text": [
      "[[-0.96877574 -1.98801716]]\n",
      "[[ 0.12143901 -0.22436392]]\n",
      "False\n"
     ]
    }
   ],
   "source": [
    "arr1 = np.random.normal(size=(1,2))\n",
    "print(arr1)\n",
    "arr2 = np.random.normal(size=(1,2))\n",
    "print(arr2)\n",
    "print((arr1 == arr2).all())"
   ]
  }
 ],
 "metadata": {
  "kernelspec": {
   "display_name": "Python 3",
   "language": "python",
   "name": "python3"
  },
  "language_info": {
   "codemirror_mode": {
    "name": "ipython",
    "version": 3
   },
   "file_extension": ".py",
   "mimetype": "text/x-python",
   "name": "python",
   "nbconvert_exporter": "python",
   "pygments_lexer": "ipython3",
   "version": "3.8.8"
  }
 },
 "nbformat": 4,
 "nbformat_minor": 5
}
